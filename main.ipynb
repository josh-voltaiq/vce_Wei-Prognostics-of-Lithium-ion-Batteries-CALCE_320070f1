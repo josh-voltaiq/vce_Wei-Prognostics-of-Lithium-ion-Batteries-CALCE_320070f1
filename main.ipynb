{
 "cells": [
  {
   "cell_type": "code",
   "execution_count": null,
   "id": "75c2917e",
   "metadata": {},
   "outputs": [],
   "source": [
    "import voltaiq_studio as vs"
   ]
  }
 ],
 "metadata": {
  "kernelspec": {
   "display_name": "Python 3 (ipykernel)",
   "language": "python",
   "name": "python3"
  }
 },
 "nbformat": 4,
 "nbformat_minor": 5
}
